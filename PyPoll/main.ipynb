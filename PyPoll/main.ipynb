{
 "cells": [
  {
   "cell_type": "code",
   "execution_count": 20,
   "metadata": {},
   "outputs": [],
   "source": [
    "import os\n",
    "import csv"
   ]
  },
  {
   "cell_type": "code",
   "execution_count": 21,
   "metadata": {},
   "outputs": [],
   "source": [
    "election_data = os.path.join(\"Resources\",\"election_data.csv\")"
   ]
  },
  {
   "cell_type": "code",
   "execution_count": 22,
   "metadata": {},
   "outputs": [
    {
     "name": "stdout",
     "output_type": "stream",
     "text": [
      "{'Khan': 2218231, 'Correy': 704200, 'Li': 492940, \"O'Tooley\": 105630}\n",
      "3521001\n"
     ]
    }
   ],
   "source": [
    "with open(election_data) as csvfile:\n",
    "    csvreader = csv.reader(csvfile, delimiter=\",\")\n",
    "    header = next(csvreader)\n",
    "    votes_total = 0\n",
    "    votes = {}\n",
    "    i = 0\n",
    "    for row in csvreader:\n",
    "        votes_total = votes_total + 1\n",
    "        if row[2] not in votes:\n",
    "           votes[row[2]] = 0\n",
    "        votes[row[2]] += 1\n",
    "        \n",
    "    print(votes)\n",
    "        #i += 1\n",
    "        #if i > 200:break\n",
    "    print(votes_total)"
   ]
  },
  {
   "cell_type": "code",
   "execution_count": 23,
   "metadata": {},
   "outputs": [
    {
     "data": {
      "text/plain": [
       "dict_keys(['Khan', 'Correy', 'Li', \"O'Tooley\"])"
      ]
     },
     "execution_count": 23,
     "metadata": {},
     "output_type": "execute_result"
    }
   ],
   "source": [
    "   votes.keys()"
   ]
  },
  {
   "cell_type": "code",
   "execution_count": 49,
   "metadata": {},
   "outputs": [
    {
     "name": "stdout",
     "output_type": "stream",
     "text": [
      "Election Results\n",
      "----------------------------\n",
      "Total Votes: 3521001\n",
      "----------------------------\n",
      "Khan 63.000% 2218231\n",
      "Correy 20.000% 704200\n",
      "Li 14.000% 492940\n",
      "O'Tooley 3.000% 105630\n",
      "----------------------------\n",
      "Winner: Khan\n"
     ]
    }
   ],
   "source": [
    "with open('analysis/output.txt','w')as file:\n",
    "    print('Election Results')\n",
    "    file.write(f'Election Results\\n')\n",
    "    print('----------------------------')\n",
    "    file.write(f'----------------------------\\n')\n",
    "    print('Total Votes: '+ str(votes_total))\n",
    "    file.write(f'Total Votes:  {str(votes_total)}\\n')\n",
    "    print('----------------------------')\n",
    "    file.write(f'----------------------------\\n')\n",
    "    for name in votes.keys():\n",
    "        percent = \"{:.3%}\".format(votes[name]/votes_total)\n",
    "        print(name,percent, votes[name])\n",
    "        file.write(f'{name} {percent} {votes[name]}\\n')\n",
    "    print('----------------------------')\n",
    "    file.write(f'----------------------------\\n')\n",
    "    winner = max(votes, key=votes.get)\n",
    "    print('Winner: '+ winner)\n",
    "    file.write(f'Winner: {winner}\\n')"
   ]
  },
  {
   "cell_type": "code",
   "execution_count": null,
   "metadata": {},
   "outputs": [],
   "source": []
  }
 ],
 "metadata": {
  "kernelspec": {
   "display_name": "Python 3",
   "language": "python",
   "name": "python3"
  },
  "language_info": {
   "codemirror_mode": {
    "name": "ipython",
    "version": 3
   },
   "file_extension": ".py",
   "mimetype": "text/x-python",
   "name": "python",
   "nbconvert_exporter": "python",
   "pygments_lexer": "ipython3",
   "version": "3.7.6"
  }
 },
 "nbformat": 4,
 "nbformat_minor": 4
}
