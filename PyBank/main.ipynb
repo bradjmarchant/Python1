{
 "cells": [
  {
   "cell_type": "code",
   "execution_count": 83,
   "metadata": {},
   "outputs": [],
   "source": [
    "import os\n",
    "import csv"
   ]
  },
  {
   "cell_type": "code",
   "execution_count": 84,
   "metadata": {},
   "outputs": [],
   "source": [
    "budget_data = os.path.join(\"Resources\",\"budget_data.csv\")"
   ]
  },
  {
   "cell_type": "code",
   "execution_count": 85,
   "metadata": {},
   "outputs": [],
   "source": [
    "\n",
    "with open(budget_data) as csvfile:\n",
    "    csvreader = csv.reader(csvfile, delimiter=\",\")\n",
    "    header = next(csvreader)\n",
    "    months = 0\n",
    "    total = 0\n",
    "    changes = []\n",
    "    monthlist = []\n",
    "    previous = 0\n",
    "    for rowcount in csvreader:\n",
    "        months = months + 1\n",
    "        total = total + int(rowcount[1])\n",
    "        if months == 1:\n",
    "            previous = int(rowcount[1])\n",
    "        else:\n",
    "            monthlychange = int(rowcount[1]) - previous\n",
    "            changes.append(monthlychange)\n",
    "            monthlist.append(rowcount[0])\n",
    "            previous = int(rowcount[1])\n",
    "          "
   ]
  },
  {
   "cell_type": "code",
   "execution_count": null,
   "metadata": {},
   "outputs": [],
   "source": []
  },
  {
   "cell_type": "code",
   "execution_count": null,
   "metadata": {},
   "outputs": [],
   "source": []
  },
  {
   "cell_type": "code",
   "execution_count": 86,
   "metadata": {},
   "outputs": [],
   "source": [
    "avechange = (sum(changes))/(len(changes))"
   ]
  },
  {
   "cell_type": "code",
   "execution_count": 87,
   "metadata": {},
   "outputs": [],
   "source": [
    "MinChanges = min(changes)\n",
    "MinMonth = monthlist[changes.index(min(changes))]"
   ]
  },
  {
   "cell_type": "code",
   "execution_count": 88,
   "metadata": {},
   "outputs": [],
   "source": [
    "MaxChanges = max(changes)\n",
    "MaxMonth = monthlist[changes.index(max(changes))]"
   ]
  },
  {
   "cell_type": "code",
   "execution_count": 89,
   "metadata": {},
   "outputs": [
    {
     "name": "stdout",
     "output_type": "stream",
     "text": [
      "Financial Analysis\n",
      "----------------------------\n",
      "Total Months: 86\n",
      "Total: $ 38382578\n",
      "Average  Change: $-2315.12\n",
      "Greatest Increase in Profits: Feb-2012 1926159\n",
      "Greatest Decrease in Profits: Sep-2013 -2196167\n"
     ]
    }
   ],
   "source": [
    "with open('analysis/output.txt','w')as file:\n",
    "    print('Financial Analysis')\n",
    "    file.write(f'\\nFinancial Analysis\\n')\n",
    "    print('----------------------------')\n",
    "    file.write(f'----------------------------\\n')\n",
    "    print(f'Total Months: {months}')\n",
    "    file.write(f'Total Months: {months}\\n')\n",
    "    print(f'Total: $ {total}')\n",
    "    file.write(f'Total: $ {total}\\n')\n",
    "    print(f'Average  Change: ${avechange:.2f}')\n",
    "    file.write(f'Average  Change: ${avechange:.2f}\\n')\n",
    "    print(f'Greatest Increase in Profits: {MaxMonth} {MaxChanges}')\n",
    "    file.write(f'Greatest Increase in Profits: {MaxMonth} {MaxChanges}\\n')\n",
    "    print(f'Greatest Decrease in Profits: {MinMonth} {MinChanges}')\n",
    "    file.write(f'Greatest Decrease in Profits: {MinMonth} {MinChanges}\\n')"
   ]
  },
  {
   "cell_type": "code",
   "execution_count": null,
   "metadata": {},
   "outputs": [],
   "source": []
  },
  {
   "cell_type": "code",
   "execution_count": null,
   "metadata": {},
   "outputs": [],
   "source": []
  },
  {
   "cell_type": "code",
   "execution_count": null,
   "metadata": {},
   "outputs": [],
   "source": []
  }
 ],
 "metadata": {
  "kernelspec": {
   "display_name": "Python 3",
   "language": "python",
   "name": "python3"
  },
  "language_info": {
   "codemirror_mode": {
    "name": "ipython",
    "version": 3
   },
   "file_extension": ".py",
   "mimetype": "text/x-python",
   "name": "python",
   "nbconvert_exporter": "python",
   "pygments_lexer": "ipython3",
   "version": "3.7.6"
  }
 },
 "nbformat": 4,
 "nbformat_minor": 4
}
